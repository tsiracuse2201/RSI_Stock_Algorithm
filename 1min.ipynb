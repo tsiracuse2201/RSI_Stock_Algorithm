{
 "cells": [
  {
   "cell_type": "code",
   "execution_count": 1,
   "metadata": {},
   "outputs": [
    {
     "name": "stdout",
     "output_type": "stream",
     "text": [
      "https://finnhub.io/api/v1/stock/candle?token=c9nclciad3if6tl7i78g&symbol=CVNA&resolution=1&from=1670516015&to=1670516955\n",
      "15\n",
      "CVNA has rsi of39.58333333333329\n",
      "https://finnhub.io/api/v1/stock/candle?token=c9nclciad3if6tl7i78g&symbol=KO&resolution=1&from=1670516016&to=1670516956\n",
      "15\n",
      "KO has rsi of50.41246562786502\n"
     ]
    }
   ],
   "source": [
    "from numpy import mean\n",
    "import math\n",
    "import time\n",
    "import ipywidgets as widgets\n",
    "import json            \n",
    "import urllib.request  \n",
    "import urllib.parse\n",
    "import re\n",
    "import datetime\n",
    "import finnhub\n",
    "def rsi_func(a):\n",
    "    \n",
    "    t_epoch = time.time()\n",
    "    \n",
    "    \n",
    "  \n",
    "    now = int(t_epoch)\n",
    "    #test value\n",
    "    bfr = now - 940\n",
    "    ticker = a\n",
    "    query = '?'\n",
    "    apikey = 'c9nclciad3if6tl7i78g'\n",
    "    link = 'https://finnhub.io/api/v1/stock/candle'\n",
    "    params = urllib.parse.urlencode({'token':'c9nclciad3if6tl7i78g', 'symbol':ticker,'resolution':1,'from':bfr , 'to':now})\n",
    "    t = (link + query + params)\n",
    "    print(t)\n",
    "    response_object = urllib.request.urlopen(t)\n",
    "    response_string = response_object.read()\n",
    "    response_as_dictionary = json.loads(response_string)\n",
    "    change_in_price_list = []\n",
    "    try:\n",
    "        if mean(response_as_dictionary['v'])>2000:\n",
    "            price_list = response_as_dictionary['c']\n",
    "            i = 1\n",
    "            j = 0\n",
    "            gains = 0\n",
    "            losses = 0\n",
    "            print(len(price_list))\n",
    "            while i <=14 and len(price_list)==15:\n",
    "                change = price_list[i]-price_list[j]\n",
    "                if change>0:\n",
    "                    gains+=change\n",
    "                else:\n",
    "                    losses+=change\n",
    "\n",
    "                change_in_price_list.append(change)\n",
    "\n",
    "                i+=1\n",
    "                j+=1\n",
    "            if i == 15 and j == 14:\n",
    "                avg_gain = gains/14\n",
    "                avg_loss = (losses/14)*(-1)\n",
    "                rs = avg_gain/avg_loss\n",
    "                rsi = 100 - 100/(1+rs)\n",
    "\n",
    "                print(f'{a} has rsi of{rsi}')\n",
    "            else:\n",
    "                 print('no data for ' + a)\n",
    "        else:\n",
    "            print(\"Suck a dick bitch\")\n",
    "\n",
    "    except KeyError:\n",
    "        print('no data for ' + a)\n",
    "\n",
    "\n",
    "\n",
    "\n",
    "\n",
    "\n",
    "\n"
   ]
  },
  {
   "cell_type": "code",
   "execution_count": 2,
   "metadata": {},
   "outputs": [
    {
     "name": "stdout",
     "output_type": "stream",
     "text": [
      "https://finnhub.io/api/v1/stock/candle?token=c9nclciad3if6tl7i78g&symbol=AAPL&resolution=1&from=1670516029&to=1670516969\n",
      "15\n",
      "AAPL has rsi of49.50680744651234\n",
      "https://finnhub.io/api/v1/stock/candle?token=c9nclciad3if6tl7i78g&symbol=MSFT&resolution=1&from=1670516030&to=1670516970\n",
      "15\n",
      "MSFT has rsi of46.53739612188418\n",
      "https://finnhub.io/api/v1/stock/candle?token=c9nclciad3if6tl7i78g&symbol=TSLA&resolution=1&from=1670516030&to=1670516970\n",
      "15\n",
      "TSLA has rsi of42.44325346784372\n",
      "https://finnhub.io/api/v1/stock/candle?token=c9nclciad3if6tl7i78g&symbol=JNJ&resolution=1&from=1670516030&to=1670516970\n",
      "15\n",
      "JNJ has rsi of34.72222222221849\n",
      "https://finnhub.io/api/v1/stock/candle?token=c9nclciad3if6tl7i78g&symbol=JPM&resolution=1&from=1670516032&to=1670516972\n",
      "15\n",
      "JPM has rsi of43.58974358974191\n",
      "https://finnhub.io/api/v1/stock/candle?token=c9nclciad3if6tl7i78g&symbol=XOM&resolution=1&from=1670516033&to=1670516973\n",
      "15\n",
      "XOM has rsi of57.91835298257929\n",
      "https://finnhub.io/api/v1/stock/candle?token=c9nclciad3if6tl7i78g&symbol=V&resolution=1&from=1670516034&to=1670516974\n",
      "15\n",
      "V has rsi of28.643060542280168\n",
      "https://finnhub.io/api/v1/stock/candle?token=c9nclciad3if6tl7i78g&symbol=WMT&resolution=1&from=1670516034&to=1670516974\n",
      "15\n",
      "WMT has rsi of47.651592264067155\n",
      "https://finnhub.io/api/v1/stock/candle?token=c9nclciad3if6tl7i78g&symbol=TSM&resolution=1&from=1670516034&to=1670516974\n",
      "15\n",
      "TSM has rsi of52.63157894736881\n",
      "https://finnhub.io/api/v1/stock/candle?token=c9nclciad3if6tl7i78g&symbol=NVDA&resolution=1&from=1670516034&to=1670516974\n",
      "15\n",
      "NVDA has rsi of44.36199621708135\n",
      "https://finnhub.io/api/v1/stock/candle?token=c9nclciad3if6tl7i78g&symbol=BAC&resolution=1&from=1670516035&to=1670516975\n",
      "15\n",
      "BAC has rsi of42.822966507177355\n",
      "https://finnhub.io/api/v1/stock/candle?token=c9nclciad3if6tl7i78g&symbol=CVX&resolution=1&from=1670516035&to=1670516975\n",
      "15\n",
      "CVX has rsi of57.116898849181695\n",
      "https://finnhub.io/api/v1/stock/candle?token=c9nclciad3if6tl7i78g&symbol=ABBV&resolution=1&from=1670516035&to=1670516975\n",
      "15\n",
      "ABBV has rsi of45.04950495049417\n",
      "https://finnhub.io/api/v1/stock/candle?token=c9nclciad3if6tl7i78g&symbol=PFE&resolution=1&from=1670516036&to=1670516976\n",
      "15\n",
      "PFE has rsi of55.51470588235332\n",
      "https://finnhub.io/api/v1/stock/candle?token=c9nclciad3if6tl7i78g&symbol=MRK&resolution=1&from=1670516036&to=1670516976\n",
      "15\n",
      "MRK has rsi of48.35526315789458\n",
      "https://finnhub.io/api/v1/stock/candle?token=c9nclciad3if6tl7i78g&symbol=KO&resolution=1&from=1670516036&to=1670516976\n",
      "15\n",
      "KO has rsi of50.41246562786502\n",
      "https://finnhub.io/api/v1/stock/candle?token=c9nclciad3if6tl7i78g&symbol=ORCL&resolution=1&from=1670516036&to=1670516976\n",
      "15\n",
      "ORCL has rsi of57.30337078651671\n",
      "https://finnhub.io/api/v1/stock/candle?token=c9nclciad3if6tl7i78g&symbol=BABA&resolution=1&from=1670516037&to=1670516977\n",
      "15\n",
      "BABA has rsi of61.59951159951122\n",
      "https://finnhub.io/api/v1/stock/candle?token=c9nclciad3if6tl7i78g&symbol=CSCO&resolution=1&from=1670516037&to=1670516977\n",
      "15\n",
      "CSCO has rsi of53.28601472134575\n",
      "https://finnhub.io/api/v1/stock/candle?token=c9nclciad3if6tl7i78g&symbol=ABT&resolution=1&from=1670516037&to=1670516977\n",
      "15\n",
      "ABT has rsi of34.52380952380844\n",
      "https://finnhub.io/api/v1/stock/candle?token=c9nclciad3if6tl7i78g&symbol=WFC&resolution=1&from=1670516037&to=1670516977\n",
      "15\n",
      "WFC has rsi of53.87776065742133\n",
      "https://finnhub.io/api/v1/stock/candle?token=c9nclciad3if6tl7i78g&symbol=DIS&resolution=1&from=1670516038&to=1670516978\n",
      "15\n",
      "DIS has rsi of43.16090524745112\n",
      "https://finnhub.io/api/v1/stock/candle?token=c9nclciad3if6tl7i78g&symbol=BMY&resolution=1&from=1670516038&to=1670516978\n",
      "15\n",
      "BMY has rsi of46.2264150943379\n",
      "https://finnhub.io/api/v1/stock/candle?token=c9nclciad3if6tl7i78g&symbol=NKE&resolution=1&from=1670516038&to=1670516978\n",
      "15\n",
      "NKE has rsi of39.634146341463044\n",
      "https://finnhub.io/api/v1/stock/candle?token=c9nclciad3if6tl7i78g&symbol=NEE&resolution=1&from=1670516039&to=1670516979\n",
      "15\n",
      "NEE has rsi of41.3428241631394\n",
      "https://finnhub.io/api/v1/stock/candle?token=c9nclciad3if6tl7i78g&symbol=VZ&resolution=1&from=1670516039&to=1670516979\n",
      "15\n",
      "VZ has rsi of29.59183673469262\n",
      "https://finnhub.io/api/v1/stock/candle?token=c9nclciad3if6tl7i78g&symbol=MS&resolution=1&from=1670516039&to=1670516979\n",
      "15\n",
      "MS has rsi of46.66666666666703\n",
      "https://finnhub.io/api/v1/stock/candle?token=c9nclciad3if6tl7i78g&symbol=COP&resolution=1&from=1670516039&to=1670516979\n",
      "15\n",
      "COP has rsi of58.33333333333367\n",
      "https://finnhub.io/api/v1/stock/candle?token=c9nclciad3if6tl7i78g&symbol=CMCSA&resolution=1&from=1670516040&to=1670516980\n",
      "15\n",
      "CMCSA has rsi of38.44731977818958\n",
      "https://finnhub.io/api/v1/stock/candle?token=c9nclciad3if6tl7i78g&symbol=SCHW&resolution=1&from=1670516040&to=1670516980\n",
      "15\n",
      "SCHW has rsi of61.33651551312683\n",
      "https://finnhub.io/api/v1/stock/candle?token=c9nclciad3if6tl7i78g&symbol=T&resolution=1&from=1670516040&to=1670516980\n",
      "15\n",
      "T has rsi of8.1128747795388\n",
      "https://finnhub.io/api/v1/stock/candle?token=c9nclciad3if6tl7i78g&symbol=C&resolution=1&from=1670516040&to=1670516980\n",
      "15\n",
      "C has rsi of28.940217391305282\n",
      "https://finnhub.io/api/v1/stock/candle?token=c9nclciad3if6tl7i78g&symbol=INTC&resolution=1&from=1670516041&to=1670516981\n",
      "14\n",
      "no data for INTC\n",
      "https://finnhub.io/api/v1/stock/candle?token=c9nclciad3if6tl7i78g&symbol=AMD&resolution=1&from=1670516041&to=1670516981\n",
      "14\n",
      "no data for AMD\n",
      "https://finnhub.io/api/v1/stock/candle?token=c9nclciad3if6tl7i78g&symbol=BP&resolution=1&from=1670516041&to=1670516981\n",
      "14\n",
      "no data for BP\n",
      "https://finnhub.io/api/v1/stock/candle?token=c9nclciad3if6tl7i78g&symbol=BA&resolution=1&from=1670516042&to=1670516982\n",
      "14\n",
      "no data for BA\n",
      "https://finnhub.io/api/v1/stock/candle?token=c9nclciad3if6tl7i78g&symbol=NVAX&resolution=1&from=1670516042&to=1670516982\n",
      "14\n",
      "no data for NVAX\n",
      "https://finnhub.io/api/v1/stock/candle?token=c9nclciad3if6tl7i78g&symbol=SOXS&resolution=1&from=1670516042&to=1670516982\n",
      "14\n",
      "no data for SOXS\n"
     ]
    }
   ],
   "source": [
    "\n",
    "\n",
    "mega_cap = ['AAPL', 'MSFT', 'TSLA', 'JNJ', 'JPM', 'XOM', 'V', 'WMT', \n",
    "            'TSM', 'NVDA', 'BAC', 'CVX', 'ABBV', 'PFE', 'MRK', 'KO', \n",
    "            'ORCL', 'BABA', 'CSCO', 'ABT', \n",
    "            'WFC', 'DIS', 'BMY', 'NKE', 'NEE', 'VZ', 'MS', 'COP', \n",
    "            'CMCSA', 'SCHW', 'T', 'C', 'INTC', 'AMD', 'BP', 'BA', 'NVAX','SOXS']\n",
    "for x in mega_cap:\n",
    "    rsi_func(x)"
   ]
  },
  {
   "cell_type": "code",
   "execution_count": 36,
   "metadata": {
    "collapsed": true,
    "jupyter": {
     "outputs_hidden": true
    }
   },
   "outputs": [
    {
     "name": "stdout",
     "output_type": "stream",
     "text": [
      "2022-11-30 11:47:38.036880-05:00\n"
     ]
    }
   ],
   "source": [
    "large_cap = ['JD', 'GE', 'TJX', 'MO', 'VALE', 'PBR', 'SLB', 'CSX', 'PBR-A', \n",
    " 'MRNA', 'OXY', 'MU', 'GM', 'UBER', 'F', 'FCX', 'ABEV', 'ITUB', \n",
    " 'SU', 'DVN', 'KMI', 'LYG', 'CVE', 'ET', 'CARR', 'KR', 'LVS', 'HAL', \n",
    " 'CPNG', 'BBD', 'PCG', 'HPQ', 'BKR', 'GOLD', 'NOK', 'SIRI', 'LUV', 'DAL', \n",
    " 'HBAN', 'RF', 'ZM', 'HPE', 'BEKE', 'MRO', 'LI', 'UMC', 'NIO', 'LCID', 'PINS', \n",
    " 'SNAP', 'EQT', 'APA', 'PLTR', 'UAL', 'HST', 'SUZ', 'CCL', 'TME', 'CCJ', 'GFI']\n",
    "\n",
    "for x in large_cap:\n",
    "    rsi_func(x)"
   ]
  },
  {
   "cell_type": "code",
   "execution_count": 14,
   "metadata": {
    "collapsed": true,
    "jupyter": {
     "outputs_hidden": true
    }
   },
   "outputs": [
    {
     "name": "stdout",
     "output_type": "stream",
     "text": [
      "The time is 11:19:30\n"
     ]
    }
   ],
   "source": [
    "small_cap = ['LAUR', 'TELL', 'SPCE', 'SAVA', 'NVAX', 'FCEL', 'VEON', \n",
    "             'OPEN', 'UUUU', 'DNN', 'NGD', 'NAT', 'MMAT', 'RIOT', 'SNDL', \n",
    "             'BNGO', 'SENS', 'WISH', 'INO', 'SKLZ', 'RIDE', 'OCGN', 'UP', \n",
    "             'GOTU', 'SDC', 'ZOM', 'BBIG', 'VXRT', 'ASTR', 'HYSR', 'NAK', \n",
    "             'IDEX', 'ALZN', 'ROOT', 'WHEN', 'ATOS', 'ILUS', 'SHIP', 'ATER', \n",
    "             'CIDM', 'CEI', 'BTBT', 'RCAT', 'RWLK', 'BMRA', 'ENG', 'TBLT', \n",
    "             'SRGA', 'SOS', 'ANY', 'BTCM', 'TNXP', 'XELA', 'AIKI', 'TLSS', \n",
    "             'TTOO', 'FAMI', 'OLB', 'BRTX', 'SONN', 'HEMP', 'MCOA', 'GROM', \n",
    "             'METX', 'ADXS', 'BIEI', 'AMNL', 'VGLS', 'IDGC', 'GTCH', 'TGHI', \n",
    "             'OCLG', 'PUGE', 'SWRM', 'PASO', 'EVIO', 'MEDH', 'VDRM', 'GARB', 'NOHO'\n",
    "for x in small_cap:\n",
    "    rsi_func(x)"
   ]
  },
  {
   "cell_type": "code",
   "execution_count": 17,
   "metadata": {
    "collapsed": true,
    "jupyter": {
     "outputs_hidden": true,
     "source_hidden": true
    }
   },
   "outputs": [
    {
     "name": "stdout",
     "output_type": "stream",
     "text": [
      "1669825220\n"
     ]
    }
   ],
   "source": []
  },
  {
   "cell_type": "code",
   "execution_count": 18,
   "metadata": {
    "collapsed": true,
    "jupyter": {
     "outputs_hidden": true,
     "source_hidden": true
    }
   },
   "outputs": [
    {
     "name": "stdout",
     "output_type": "stream",
     "text": [
      "The timestamp is 2022-11-30 11:21:26.779472\n"
     ]
    }
   ],
   "source": []
  },
  {
   "cell_type": "code",
   "execution_count": 19,
   "metadata": {
    "collapsed": true,
    "jupyter": {
     "outputs_hidden": true,
     "source_hidden": true
    }
   },
   "outputs": [
    {
     "name": "stdout",
     "output_type": "stream",
     "text": [
      "The epoch time is now: 1669825319.484302\n"
     ]
    }
   ],
   "source": []
  },
  {
   "cell_type": "code",
   "execution_count": null,
   "metadata": {},
   "outputs": [],
   "source": []
  }
 ],
 "metadata": {
  "kernelspec": {
   "display_name": "Python 3",
   "language": "python",
   "name": "python3"
  },
  "language_info": {
   "codemirror_mode": {
    "name": "ipython",
    "version": 3
   },
   "file_extension": ".py",
   "mimetype": "text/x-python",
   "name": "python",
   "nbconvert_exporter": "python",
   "pygments_lexer": "ipython3",
   "version": "3.8.5"
  }
 },
 "nbformat": 4,
 "nbformat_minor": 4
}
